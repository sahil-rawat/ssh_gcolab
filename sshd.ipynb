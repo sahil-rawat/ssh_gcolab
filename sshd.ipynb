{
  "cells": [
    {
      "cell_type": "markdown",
      "metadata": {
        "colab_type": "text",
        "id": "view-in-github"
      },
      "source": [
        "<a href=\"https://colab.research.google.com/github/sahil-rawat/ssh_gcolab/blob/master/sshd.ipynb\" target=\"_parent\"><img src=\"https://colab.research.google.com/assets/colab-badge.svg\" alt=\"Open In Colab\"/></a>"
      ]
    },
    {
      "cell_type": "code",
      "execution_count": null,
      "metadata": {
        "colab": {
          "base_uri": "https://localhost:8080/"
        },
        "id": "nFfeJLUJdOST",
        "outputId": "1db4e4af-4a07-4e50-b1c7-5e4b9fc9bbcc"
      },
      "outputs": [],
      "source": [
        "from google.colab import drive\n",
        "drive.mount('/content/gdrive')"
      ]
    },
    {
      "cell_type": "code",
      "execution_count": 8,
      "metadata": {
        "id": "9rL699W2gTQf"
      },
      "outputs": [],
      "source": [
        "!wget -q -c -nc https://bin.equinox.io/c/4VmDzA7iaHb/ngrok-stable-linux-amd64.zip\n",
        "password=\"somesecurepasswordhere\"\n",
        "\n",
        "\n",
        "!unzip -qq -n ngrok-stable-linux-amd64.zip\n",
        "!apt-get install -qq -o=Dpkg::Use-Pty=0 openssh-server pwgen > /dev/null\n",
        "!echo root:$password |chpasswd\n",
        "\n"
      ]
    },
    {
      "cell_type": "code",
      "execution_count": null,
      "metadata": {
        "colab": {
          "base_uri": "https://localhost:8080/"
        },
        "id": "IIIIMK79d2uk",
        "outputId": "b07394fe-73c5-4d16-dc79-c30698f7a860"
      },
      "outputs": [],
      "source": [
        "!mkdir -p /var/run/sshd\n",
        "\n",
        "!echo \"PermitRootLogin yes\" >> /etc/ssh/sshd_config\n",
        "!echo \"PermitRootLogin yes\" >> /etc/ssh/sshd_config\n",
        "!echo \"LD_LIBRARY_PATH=/usr/lib64-nvidia\" >> /root/.bashrc\n",
        "\n",
        "get_ipython().system_raw('/usr/sbin/sshd -D &')\n",
        "\n",
        "import getpass\n",
        "\n",
        "authtoken=getpass.getpass()\n",
        "\n",
        "get_ipython().system_raw('./ngrok authtoken $authtoken && ./ngrok tcp 22 &')\n",
        "print(\"Root Password: {}\".format(password))\n",
        "\n",
        "!curl -s http://localhost:4040/api/tunnels "
      ]
    }
  ],
  "metadata": {
    "accelerator": "GPU",
    "colab": {
      "authorship_tag": "ABX9TyPLq8KqbfdbwMbubsguRwWP",
      "include_colab_link": true,
      "name": "sshd",
      "provenance": []
    },
    "kernelspec": {
      "display_name": "Python 3",
      "name": "python3"
    },
    "language_info": {
      "name": "python"
    }
  },
  "nbformat": 4,
  "nbformat_minor": 0
}