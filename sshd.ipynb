{
  "nbformat": 4,
  "nbformat_minor": 0,
  "metadata": {
    "colab": {
      "name": "sshd",
      "provenance": [],
      "authorship_tag": "ABX9TyPLq8KqbfdbwMbubsguRwWP",
      "include_colab_link": true
    },
    "kernelspec": {
      "name": "python3",
      "display_name": "Python 3"
    },
    "language_info": {
      "name": "python"
    },
    "accelerator": "GPU"
  },
  "cells": [
    {
      "cell_type": "markdown",
      "metadata": {
        "id": "view-in-github",
        "colab_type": "text"
      },
      "source": [
        "<a href=\"https://colab.research.google.com/github/sahil-rawat/ssh_gcolab/blob/master/sshd.ipynb\" target=\"_parent\"><img src=\"https://colab.research.google.com/assets/colab-badge.svg\" alt=\"Open In Colab\"/></a>"
      ]
    },
    {
      "cell_type": "code",
      "metadata": {
        "colab": {
          "base_uri": "https://localhost:8080/"
        },
        "id": "nFfeJLUJdOST",
        "outputId": "1db4e4af-4a07-4e50-b1c7-5e4b9fc9bbcc"
      },
      "source": [
        "from google.colab import drive\n",
        "drive.mount('/content/gdrive')\n",
        "\n",
        "\n"
      ],
      "execution_count": 1,
      "outputs": [
        {
          "output_type": "stream",
          "text": [
            "Mounted at /content/gdrive\n"
          ],
          "name": "stdout"
        }
      ]
    },
    {
      "cell_type": "code",
      "metadata": {
        "id": "9rL699W2gTQf"
      },
      "source": [
        "!wget -q -c -nc https://bin.equinox.io/c/4VmDzA7iaHb/ngrok-stable-linux-amd64.zip\n",
        "password=\"somesecurepasswordhere\"\n",
        "\n",
        "\n",
        "!unzip -qq -n ngrok-stable-linux-amd64.zip\n",
        "!apt-get install -qq -o=Dpkg::Use-Pty=0 openssh-server pwgen > /dev/null\n",
        "!echo root:$password |chpasswd\n",
        "\n"
      ],
      "execution_count": 8,
      "outputs": []
    },
    {
      "cell_type": "code",
      "metadata": {
        "colab": {
          "base_uri": "https://localhost:8080/"
        },
        "id": "IIIIMK79d2uk",
        "outputId": "b07394fe-73c5-4d16-dc79-c30698f7a860"
      },
      "source": [
        "!mkdir -p /var/run/sshd\n",
        "\n",
        "!echo \"PermitRootLogin yes\" >> /etc/ssh/sshd_config\n",
        "!echo \"PermitRootLogin yes\" >> /etc/ssh/sshd_config\n",
        "!echo \"LD_LIBRARY_PATH=/usr/lib64-nvidia\" >> /root/.bashrc\n",
        "\n",
        "get_ipython().system_raw('/usr/sbin/sshd -D &')\n",
        "\n",
        "import getpass\n",
        "\n",
        "authtoken=getpass.getpass()\n",
        "\n",
        "get_ipython().system_raw('./ngrok authtoken $authtoken && ./ngrok tcp 22 &')\n",
        "print(\"Root Password: {}\".format(password))\n",
        "\n",
        "!curl -s http://localhost:4040/api/tunnels "
      ],
      "execution_count": 22,
      "outputs": [
        {
          "output_type": "stream",
          "text": [
            "··········\n",
            "Root Password: plut0m00n\n",
            "{\"tunnels\":[{\"name\":\"command_line\",\"uri\":\"/api/tunnels/command_line\",\"public_url\":\"tcp://4.tcp.ngrok.io:18728\",\"proto\":\"tcp\",\"config\":{\"addr\":\"localhost:22\",\"inspect\":false},\"metrics\":{\"conns\":{\"count\":0,\"gauge\":0,\"rate1\":0,\"rate5\":0,\"rate15\":0,\"p50\":0,\"p90\":0,\"p95\":0,\"p99\":0},\"http\":{\"count\":0,\"rate1\":0,\"rate5\":0,\"rate15\":0,\"p50\":0,\"p90\":0,\"p95\":0,\"p99\":0}}}],\"uri\":\"/api/tunnels\"}\n"
          ],
          "name": "stdout"
        }
      ]
    },
    {
      "cell_type": "code",
      "metadata": {
        "colab": {
          "base_uri": "https://localhost:8080/"
        },
        "id": "CsU3iYFbh3If",
        "outputId": "8540eda8-7c1b-4e9a-8d7e-650225dd4382"
      },
      "source": [
        "!apt install net-tools"
      ],
      "execution_count": 16,
      "outputs": [
        {
          "output_type": "stream",
          "text": [
            "Reading package lists... Done\n",
            "Building dependency tree       \n",
            "Reading state information... Done\n",
            "The following NEW packages will be installed:\n",
            "  net-tools\n",
            "0 upgraded, 1 newly installed, 0 to remove and 39 not upgraded.\n",
            "Need to get 194 kB of archives.\n",
            "After this operation, 803 kB of additional disk space will be used.\n",
            "Get:1 http://archive.ubuntu.com/ubuntu bionic/main amd64 net-tools amd64 1.60+git20161116.90da8a0-1ubuntu1 [194 kB]\n",
            "Fetched 194 kB in 1s (211 kB/s)\n",
            "Selecting previously unselected package net-tools.\n",
            "(Reading database ... 163789 files and directories currently installed.)\n",
            "Preparing to unpack .../net-tools_1.60+git20161116.90da8a0-1ubuntu1_amd64.deb ...\n",
            "Unpacking net-tools (1.60+git20161116.90da8a0-1ubuntu1) ...\n",
            "Setting up net-tools (1.60+git20161116.90da8a0-1ubuntu1) ...\n",
            "Processing triggers for man-db (2.8.3-2ubuntu0.1) ...\n"
          ],
          "name": "stdout"
        }
      ]
    },
    {
      "cell_type": "code",
      "metadata": {
        "id": "1ToC0eB_jae4"
      },
      "source": [
        ""
      ],
      "execution_count": 26,
      "outputs": []
    }
  ]
}